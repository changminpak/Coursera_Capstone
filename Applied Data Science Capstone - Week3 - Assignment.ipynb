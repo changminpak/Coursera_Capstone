{
    "cells": [
        {
            "cell_type": "markdown",
            "metadata": {
                "collapsed": true
            },
            "source": "## Applied Data Science Capstone - Week3 - Assignment: Segmenting and Clustering Neighborhoods in Toronto"
        },
        {
            "cell_type": "code",
            "execution_count": 3,
            "metadata": {},
            "outputs": [],
            "source": "import pandas as pd\nimport numpy as np\nimport matplotlib.pyplot as plt\n%matplotlib inline"
        },
        {
            "cell_type": "code",
            "execution_count": 5,
            "metadata": {},
            "outputs": [],
            "source": "# Data file URL\nfile_url = \"https://cloud-object-storage-ul-cos-standard-97j.s3.us-east.cloud-object-storage.appdomain.cloud/Postal_codes_of_Canada.csv\""
        },
        {
            "cell_type": "code",
            "execution_count": 8,
            "metadata": {},
            "outputs": [
                {
                    "data": {
                        "text/html": "<div>\n<style scoped>\n    .dataframe tbody tr th:only-of-type {\n        vertical-align: middle;\n    }\n\n    .dataframe tbody tr th {\n        vertical-align: top;\n    }\n\n    .dataframe thead th {\n        text-align: right;\n    }\n</style>\n<table border=\"1\" class=\"dataframe\">\n  <thead>\n    <tr style=\"text-align: right;\">\n      <th></th>\n      <th>Postal Code</th>\n      <th>Borough</th>\n      <th>Neighbourhood</th>\n    </tr>\n  </thead>\n  <tbody>\n    <tr>\n      <th>0</th>\n      <td>M1A</td>\n      <td>Not assigned</td>\n      <td>Not assigned</td>\n    </tr>\n    <tr>\n      <th>1</th>\n      <td>M2A</td>\n      <td>Not assigned</td>\n      <td>Not assigned</td>\n    </tr>\n    <tr>\n      <th>2</th>\n      <td>M3A</td>\n      <td>North York</td>\n      <td>Parkwoods</td>\n    </tr>\n    <tr>\n      <th>3</th>\n      <td>M4A</td>\n      <td>North York</td>\n      <td>Victoria Village</td>\n    </tr>\n    <tr>\n      <th>4</th>\n      <td>M5A</td>\n      <td>Downtown Toronto</td>\n      <td>Regent Park, Harbourfront</td>\n    </tr>\n    <tr>\n      <th>5</th>\n      <td>M6A</td>\n      <td>North York</td>\n      <td>Lawrence Manor, Lawrence Heights</td>\n    </tr>\n    <tr>\n      <th>6</th>\n      <td>M7A</td>\n      <td>Downtown Toronto</td>\n      <td>Queen's Park, Ontario Provincial Government</td>\n    </tr>\n    <tr>\n      <th>7</th>\n      <td>M8A</td>\n      <td>Not assigned</td>\n      <td>Not assigned</td>\n    </tr>\n    <tr>\n      <th>8</th>\n      <td>M9A</td>\n      <td>Etobicoke</td>\n      <td>Islington Avenue, Humber Valley Village</td>\n    </tr>\n    <tr>\n      <th>9</th>\n      <td>M1B</td>\n      <td>Scarborough</td>\n      <td>Malvern, Rouge</td>\n    </tr>\n  </tbody>\n</table>\n</div>",
                        "text/plain": "  Postal Code           Borough                                Neighbourhood\n0         M1A      Not assigned                                 Not assigned\n1         M2A      Not assigned                                 Not assigned\n2         M3A        North York                                    Parkwoods\n3         M4A        North York                             Victoria Village\n4         M5A  Downtown Toronto                    Regent Park, Harbourfront\n5         M6A        North York             Lawrence Manor, Lawrence Heights\n6         M7A  Downtown Toronto  Queen's Park, Ontario Provincial Government\n7         M8A      Not assigned                                 Not assigned\n8         M9A         Etobicoke      Islington Avenue, Humber Valley Village\n9         M1B       Scarborough                               Malvern, Rouge"
                    },
                    "execution_count": 8,
                    "metadata": {},
                    "output_type": "execute_result"
                }
            ],
            "source": "# Read the data file\ndf_orig = pd.read_csv(file_url)\ndf_orig.head(10)"
        },
        {
            "cell_type": "code",
            "execution_count": 11,
            "metadata": {},
            "outputs": [
                {
                    "data": {
                        "text/plain": "(180, 3)"
                    },
                    "execution_count": 11,
                    "metadata": {},
                    "output_type": "execute_result"
                }
            ],
            "source": "df_orig.shape"
        },
        {
            "cell_type": "code",
            "execution_count": 74,
            "metadata": {},
            "outputs": [
                {
                    "data": {
                        "text/html": "<div>\n<style scoped>\n    .dataframe tbody tr th:only-of-type {\n        vertical-align: middle;\n    }\n\n    .dataframe tbody tr th {\n        vertical-align: top;\n    }\n\n    .dataframe thead th {\n        text-align: right;\n    }\n</style>\n<table border=\"1\" class=\"dataframe\">\n  <thead>\n    <tr style=\"text-align: right;\">\n      <th></th>\n      <th>Postal Code</th>\n      <th>Borough</th>\n      <th>Neighbourhood</th>\n    </tr>\n  </thead>\n  <tbody>\n    <tr>\n      <th>0</th>\n      <td>M3A</td>\n      <td>North York</td>\n      <td>Parkwoods</td>\n    </tr>\n    <tr>\n      <th>1</th>\n      <td>M4A</td>\n      <td>North York</td>\n      <td>Victoria Village</td>\n    </tr>\n    <tr>\n      <th>2</th>\n      <td>M5A</td>\n      <td>Downtown Toronto</td>\n      <td>Regent Park, Harbourfront</td>\n    </tr>\n    <tr>\n      <th>3</th>\n      <td>M6A</td>\n      <td>North York</td>\n      <td>Lawrence Manor, Lawrence Heights</td>\n    </tr>\n    <tr>\n      <th>4</th>\n      <td>M7A</td>\n      <td>Downtown Toronto</td>\n      <td>Queen's Park, Ontario Provincial Government</td>\n    </tr>\n    <tr>\n      <th>5</th>\n      <td>M9A</td>\n      <td>Etobicoke</td>\n      <td>Islington Avenue, Humber Valley Village</td>\n    </tr>\n    <tr>\n      <th>6</th>\n      <td>M1B</td>\n      <td>Scarborough</td>\n      <td>Malvern, Rouge</td>\n    </tr>\n    <tr>\n      <th>7</th>\n      <td>M3B</td>\n      <td>North York</td>\n      <td>Don Mills</td>\n    </tr>\n    <tr>\n      <th>8</th>\n      <td>M4B</td>\n      <td>East York</td>\n      <td>Parkview Hill, Woodbine Gardens</td>\n    </tr>\n    <tr>\n      <th>9</th>\n      <td>M5B</td>\n      <td>Downtown Toronto</td>\n      <td>Garden District, Ryerson</td>\n    </tr>\n  </tbody>\n</table>\n</div>",
                        "text/plain": "  Postal Code           Borough                                Neighbourhood\n0         M3A        North York                                    Parkwoods\n1         M4A        North York                             Victoria Village\n2         M5A  Downtown Toronto                    Regent Park, Harbourfront\n3         M6A        North York             Lawrence Manor, Lawrence Heights\n4         M7A  Downtown Toronto  Queen's Park, Ontario Provincial Government\n5         M9A         Etobicoke      Islington Avenue, Humber Valley Village\n6         M1B       Scarborough                               Malvern, Rouge\n7         M3B        North York                                    Don Mills\n8         M4B         East York              Parkview Hill, Woodbine Gardens\n9         M5B  Downtown Toronto                     Garden District, Ryerson"
                    },
                    "execution_count": 74,
                    "metadata": {},
                    "output_type": "execute_result"
                }
            ],
            "source": "# Delete rows if Borough has 'Not assigned'\ndf = df_orig[df_orig['Borough'] != 'Not assigned'].reset_index(drop=True)\ndf.head(10)"
        },
        {
            "cell_type": "code",
            "execution_count": 66,
            "metadata": {},
            "outputs": [
                {
                    "data": {
                        "text/plain": "(103, 3)"
                    },
                    "execution_count": 66,
                    "metadata": {},
                    "output_type": "execute_result"
                }
            ],
            "source": "df.shape"
        },
        {
            "cell_type": "code",
            "execution_count": 67,
            "metadata": {
                "scrolled": false
            },
            "outputs": [
                {
                    "data": {
                        "text/plain": "array([['M3A', 'North York', 'Parkwoods'],\n       ['M4A', 'North York', 'Victoria Village'],\n       ['M5A', 'Downtown Toronto', 'Regent Park, Harbourfront'],\n       ['M6A', 'North York', 'Lawrence Manor, Lawrence Heights'],\n       ['M7A', 'Downtown Toronto',\n        \"Queen's Park, Ontario Provincial Government\"],\n       ['M9A', 'Etobicoke', 'Islington Avenue, Humber Valley Village'],\n       ['M1B', 'Scarborough', 'Malvern, Rouge'],\n       ['M3B', 'North York', 'Don Mills'],\n       ['M4B', 'East York', 'Parkview Hill, Woodbine Gardens'],\n       ['M5B', 'Downtown Toronto', 'Garden District, Ryerson'],\n       ['M6B', 'North York', 'Glencairn'],\n       ['M9B', 'Etobicoke',\n        'West Deane Park, Princess Gardens, Martin Grove, Islington, Cloverdale'],\n       ['M1C', 'Scarborough', 'Rouge Hill, Port Union, Highland Creek'],\n       ['M3C', 'North York', 'Don Mills'],\n       ['M4C', 'East York', 'Woodbine Heights'],\n       ['M5C', 'Downtown Toronto', 'St. James Town'],\n       ['M6C', 'York', 'Humewood-Cedarvale'],\n       ['M9C', 'Etobicoke',\n        'Eringate, Bloordale Gardens, Old Burnhamthorpe, Markland Wood'],\n       ['M1E', 'Scarborough', 'Guildwood, Morningside, West Hill'],\n       ['M4E', 'East Toronto', 'The Beaches'],\n       ['M5E', 'Downtown Toronto', 'Berczy Park'],\n       ['M6E', 'York', 'Caledonia-Fairbanks'],\n       ['M1G', 'Scarborough', 'Woburn'],\n       ['M4G', 'East York', 'Leaside'],\n       ['M5G', 'Downtown Toronto', 'Central Bay Street'],\n       ['M6G', 'Downtown Toronto', 'Christie'],\n       ['M1H', 'Scarborough', 'Cedarbrae'],\n       ['M2H', 'North York', 'Hillcrest Village'],\n       ['M3H', 'North York',\n        'Bathurst Manor, Wilson Heights, Downsview North'],\n       ['M4H', 'East York', 'Thorncliffe Park'],\n       ['M5H', 'Downtown Toronto', 'Richmond, Adelaide, King'],\n       ['M6H', 'West Toronto', 'Dufferin, Dovercourt Village'],\n       ['M1J', 'Scarborough', 'Scarborough Village'],\n       ['M2J', 'North York', 'Fairview, Henry Farm, Oriole'],\n       ['M3J', 'North York', 'Northwood Park, York University'],\n       ['M4J', 'East York',\n        'East Toronto, Broadview North (Old East York)'],\n       ['M5J', 'Downtown Toronto',\n        'Harbourfront East, Union Station, Toronto Islands'],\n       ['M6J', 'West Toronto', 'Little Portugal, Trinity'],\n       ['M1K', 'Scarborough',\n        'Kennedy Park, Ionview, East Birchmount Park'],\n       ['M2K', 'North York', 'Bayview Village'],\n       ['M3K', 'North York', 'Downsview'],\n       ['M4K', 'East Toronto', 'The Danforth West, Riverdale'],\n       ['M5K', 'Downtown Toronto',\n        'Toronto Dominion Centre, Design Exchange'],\n       ['M6K', 'West Toronto',\n        'Brockton, Parkdale Village, Exhibition Place'],\n       ['M1L', 'Scarborough', 'Golden Mile, Clairlea, Oakridge'],\n       ['M2L', 'North York', 'York Mills, Silver Hills'],\n       ['M3L', 'North York', 'Downsview'],\n       ['M4L', 'East Toronto', 'India Bazaar, The Beaches West'],\n       ['M5L', 'Downtown Toronto', 'Commerce Court, Victoria Hotel'],\n       ['M6L', 'North York', 'North Park, Maple Leaf Park, Upwood Park'],\n       ['M9L', 'North York', 'Humber Summit'],\n       ['M1M', 'Scarborough',\n        'Cliffside, Cliffcrest, Scarborough Village West'],\n       ['M2M', 'North York', 'Willowdale, Newtonbrook'],\n       ['M3M', 'North York', 'Downsview'],\n       ['M4M', 'East Toronto', 'Studio District'],\n       ['M5M', 'North York', 'Bedford Park, Lawrence Manor East'],\n       ['M6M', 'York',\n        'Del Ray, Mount Dennis, Keelsdale and Silverthorn'],\n       ['M9M', 'North York', 'Humberlea, Emery'],\n       ['M1N', 'Scarborough', 'Birch Cliff, Cliffside West'],\n       ['M2N', 'North York', 'Willowdale, Willowdale East'],\n       ['M3N', 'North York', 'Downsview'],\n       ['M4N', 'Central Toronto', 'Lawrence Park'],\n       ['M5N', 'Central Toronto', 'Roselawn'],\n       ['M6N', 'York', 'Runnymede, The Junction North'],\n       ['M9N', 'York', 'Weston'],\n       ['M1P', 'Scarborough',\n        'Dorset Park, Wexford Heights, Scarborough Town Centre'],\n       ['M2P', 'North York', 'York Mills West'],\n       ['M4P', 'Central Toronto', 'Davisville North'],\n       ['M5P', 'Central Toronto',\n        'Forest Hill North & West, Forest Hill Road Park'],\n       ['M6P', 'West Toronto', 'High Park, The Junction South'],\n       ['M9P', 'Etobicoke', 'Westmount'],\n       ['M1R', 'Scarborough', 'Wexford, Maryvale'],\n       ['M2R', 'North York', 'Willowdale, Willowdale West'],\n       ['M4R', 'Central Toronto', 'North Toronto West, Lawrence Park'],\n       ['M5R', 'Central Toronto', 'The Annex, North Midtown, Yorkville'],\n       ['M6R', 'West Toronto', 'Parkdale, Roncesvalles'],\n       ['M7R', 'Mississauga', 'Canada Post Gateway Processing Centre'],\n       ['M9R', 'Etobicoke',\n        'Kingsview Village, St. Phillips, Martin Grove Gardens, Richview Gardens'],\n       ['M1S', 'Scarborough', 'Agincourt'],\n       ['M4S', 'Central Toronto', 'Davisville'],\n       ['M5S', 'Downtown Toronto', 'University of Toronto, Harbord'],\n       ['M6S', 'West Toronto', 'Runnymede, Swansea'],\n       ['M1T', 'Scarborough', \"Clarks Corners, Tam O'Shanter, Sullivan\"],\n       ['M4T', 'Central Toronto', 'Moore Park, Summerhill East'],\n       ['M5T', 'Downtown Toronto',\n        'Kensington Market, Chinatown, Grange Park'],\n       ['M1V', 'Scarborough',\n        \"Milliken, Agincourt North, Steeles East, L'Amoreaux East\"],\n       ['M4V', 'Central Toronto',\n        'Summerhill West, Rathnelly, South Hill, Forest Hill SE, Deer Park'],\n       ['M5V', 'Downtown Toronto',\n        'CN Tower, King and Spadina, Railway Lands, Harbourfront West, Bathurst Quay, South Niagara, Island airport'],\n       ['M8V', 'Etobicoke',\n        'New Toronto, Mimico South, Humber Bay Shores'],\n       ['M9V', 'Etobicoke',\n        'South Steeles, Silverstone, Humbergate, Jamestown, Mount Olive, Beaumond Heights, Thistletown, Albion Gardens'],\n       ['M1W', 'Scarborough', \"Steeles West, L'Amoreaux West\"],\n       ['M4W', 'Downtown Toronto', 'Rosedale'],\n       ['M5W', 'Downtown Toronto', 'Stn A PO Boxes'],\n       ['M8W', 'Etobicoke', 'Alderwood, Long Branch'],\n       ['M9W', 'Etobicoke', 'Northwest, West Humber - Clairville'],\n       ['M1X', 'Scarborough', 'Upper Rouge'],\n       ['M4X', 'Downtown Toronto', 'St. James Town, Cabbagetown'],\n       ['M5X', 'Downtown Toronto',\n        'First Canadian Place, Underground city'],\n       ['M8X', 'Etobicoke',\n        'The Kingsway, Montgomery Road, Old Mill North'],\n       ['M4Y', 'Downtown Toronto', 'Church and Wellesley'],\n       ['M7Y', 'East Toronto',\n        'Business reply mail Processing Centre, South Central Letter Processing Plant Toronto'],\n       ['M8Y', 'Etobicoke',\n        \"Old Mill South, King's Mill Park, Sunnylea, Humber Bay, Mimico NE, The Queensway East, Royal York South East, Kingsway Park South East\"],\n       ['M8Z', 'Etobicoke',\n        'Mimico NW, The Queensway West, South of Bloor, Kingsway Park South West, Royal York South West']],\n      dtype=object)"
                    },
                    "execution_count": 67,
                    "metadata": {},
                    "output_type": "execute_result"
                }
            ],
            "source": "df.values"
        },
        {
            "cell_type": "code",
            "execution_count": 75,
            "metadata": {},
            "outputs": [
                {
                    "data": {
                        "text/html": "<div>\n<style scoped>\n    .dataframe tbody tr th:only-of-type {\n        vertical-align: middle;\n    }\n\n    .dataframe tbody tr th {\n        vertical-align: top;\n    }\n\n    .dataframe thead th {\n        text-align: right;\n    }\n</style>\n<table border=\"1\" class=\"dataframe\">\n  <thead>\n    <tr style=\"text-align: right;\">\n      <th></th>\n      <th>Postal Code</th>\n      <th>Borough</th>\n      <th>Neighbourhood</th>\n    </tr>\n  </thead>\n  <tbody>\n    <tr>\n      <th>0</th>\n      <td>M3A</td>\n      <td>North York</td>\n      <td>Parkwoods</td>\n    </tr>\n    <tr>\n      <th>1</th>\n      <td>M4A</td>\n      <td>North York</td>\n      <td>Victoria Village</td>\n    </tr>\n    <tr>\n      <th>2</th>\n      <td>M5A</td>\n      <td>Downtown Toronto</td>\n      <td>Regent Park, Harbourfront</td>\n    </tr>\n    <tr>\n      <th>3</th>\n      <td>M6A</td>\n      <td>North York</td>\n      <td>Lawrence Manor, Lawrence Heights</td>\n    </tr>\n    <tr>\n      <th>4</th>\n      <td>M7A</td>\n      <td>Downtown Toronto</td>\n      <td>Queen's Park, Ontario Provincial Government</td>\n    </tr>\n    <tr>\n      <th>...</th>\n      <td>...</td>\n      <td>...</td>\n      <td>...</td>\n    </tr>\n    <tr>\n      <th>98</th>\n      <td>M8X</td>\n      <td>Etobicoke</td>\n      <td>The Kingsway, Montgomery Road, Old Mill North</td>\n    </tr>\n    <tr>\n      <th>99</th>\n      <td>M4Y</td>\n      <td>Downtown Toronto</td>\n      <td>Church and Wellesley</td>\n    </tr>\n    <tr>\n      <th>100</th>\n      <td>M7Y</td>\n      <td>East Toronto</td>\n      <td>Business reply mail Processing Centre, South C...</td>\n    </tr>\n    <tr>\n      <th>101</th>\n      <td>M8Y</td>\n      <td>Etobicoke</td>\n      <td>Old Mill South, King's Mill Park, Sunnylea, Hu...</td>\n    </tr>\n    <tr>\n      <th>102</th>\n      <td>M8Z</td>\n      <td>Etobicoke</td>\n      <td>Mimico NW, The Queensway West, South of Bloor,...</td>\n    </tr>\n  </tbody>\n</table>\n<p>103 rows \u00d7 3 columns</p>\n</div>",
                        "text/plain": "    Postal Code           Borough  \\\n0           M3A        North York   \n1           M4A        North York   \n2           M5A  Downtown Toronto   \n3           M6A        North York   \n4           M7A  Downtown Toronto   \n..          ...               ...   \n98          M8X         Etobicoke   \n99          M4Y  Downtown Toronto   \n100         M7Y      East Toronto   \n101         M8Y         Etobicoke   \n102         M8Z         Etobicoke   \n\n                                         Neighbourhood  \n0                                            Parkwoods  \n1                                     Victoria Village  \n2                            Regent Park, Harbourfront  \n3                     Lawrence Manor, Lawrence Heights  \n4          Queen's Park, Ontario Provincial Government  \n..                                                 ...  \n98       The Kingsway, Montgomery Road, Old Mill North  \n99                                Church and Wellesley  \n100  Business reply mail Processing Centre, South C...  \n101  Old Mill South, King's Mill Park, Sunnylea, Hu...  \n102  Mimico NW, The Queensway West, South of Bloor,...  \n\n[103 rows x 3 columns]"
                    },
                    "execution_count": 75,
                    "metadata": {},
                    "output_type": "execute_result"
                }
            ],
            "source": "# groupby 'Postal Code' and combine Neighbourhood values\ndf.groupby(['Postal Code'], as_index = False).agg({'Neighbourhood': ', '.join})\ndf"
        },
        {
            "cell_type": "code",
            "execution_count": 76,
            "metadata": {},
            "outputs": [
                {
                    "data": {
                        "text/plain": "(103, 3)"
                    },
                    "execution_count": 76,
                    "metadata": {},
                    "output_type": "execute_result"
                }
            ],
            "source": "df.shape"
        },
        {
            "cell_type": "markdown",
            "metadata": {},
            "source": "#### Check if we have 'Not assigned' assigned to Neighbourhood column"
        },
        {
            "cell_type": "code",
            "execution_count": 83,
            "metadata": {},
            "outputs": [
                {
                    "data": {
                        "text/plain": "(0, 3)"
                    },
                    "execution_count": 83,
                    "metadata": {},
                    "output_type": "execute_result"
                }
            ],
            "source": "# Check if we have 'Not assigned' assigned to Neighbourhood column\ndf_na = df[df['Neighbourhood'] == 'Not assigned']\ndf_na.shape"
        },
        {
            "cell_type": "markdown",
            "metadata": {},
            "source": "#### Since there is no case where 'Not assigned' assigned to the Neighbourhood column, we do not need to run the below code."
        },
        {
            "cell_type": "code",
            "execution_count": 84,
            "metadata": {},
            "outputs": [],
            "source": "# If Neighbourhood value is 'Not assigned', replace it with the value of Borough column\n# df.loc[df['Neighbourhood'] == 'Not assigned', 'Neighbourhood'] = df['Borough']\n# df.values"
        },
        {
            "cell_type": "code",
            "execution_count": 85,
            "metadata": {},
            "outputs": [
                {
                    "data": {
                        "text/plain": "(103, 3)"
                    },
                    "execution_count": 85,
                    "metadata": {},
                    "output_type": "execute_result"
                }
            ],
            "source": "df.shape"
        },
        {
            "cell_type": "code",
            "execution_count": null,
            "metadata": {},
            "outputs": [],
            "source": ""
        }
    ],
    "metadata": {
        "kernelspec": {
            "display_name": "Python 3.7",
            "language": "python",
            "name": "python3"
        },
        "language_info": {
            "codemirror_mode": {
                "name": "ipython",
                "version": 3
            },
            "file_extension": ".py",
            "mimetype": "text/x-python",
            "name": "python",
            "nbconvert_exporter": "python",
            "pygments_lexer": "ipython3",
            "version": "3.7.9"
        }
    },
    "nbformat": 4,
    "nbformat_minor": 1
}